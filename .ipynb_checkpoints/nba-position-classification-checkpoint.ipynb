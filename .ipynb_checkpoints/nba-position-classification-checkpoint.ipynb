{
 "cells": [
  {
   "cell_type": "markdown",
   "metadata": {},
   "source": [
    "## Classifying NBA Player Positions by K-Means Clustering\n",
    "\n"
   ]
  },
  {
   "cell_type": "markdown",
   "metadata": {},
   "source": [
    "### Step 1: Analyze and Clean the Data\n",
    "\n",
    "The data will need to be analyzed, cleaned, and prepared for the K-Means Clustering."
   ]
  },
  {
   "cell_type": "code",
   "execution_count": 2,
   "metadata": {},
   "outputs": [],
   "source": [
    "#Import the necessary libraries\n",
    "import pandas as pd\n",
    "import matplotlib.pyplot as plt \n",
    "from sklearn.cluster import KMeans"
   ]
  },
  {
   "cell_type": "code",
   "execution_count": 3,
   "metadata": {},
   "outputs": [],
   "source": [
    "#Read in the data to a DataFrame\n",
    "nba_player_data = pd.read_csv('nba_player_data_2020.csv')"
   ]
  },
  {
   "cell_type": "code",
   "execution_count": 5,
   "metadata": {},
   "outputs": [
    {
     "name": "stdout",
     "output_type": "stream",
     "text": [
      "  Team No.            Player Pos   Ht   Wt        Birth Date Country Exp  \\\n",
      "0  MIL  11       Brook Lopez   C  7-0  282     April 1, 1988      us  12   \n",
      "1  MIL   9   Wesley Matthews  SG  6-4  220  October 14, 1986      us  11   \n",
      "2  MIL  24   Pat Connaughton  SG  6-5  209   January 6, 1993      us   5   \n",
      "3  MIL   0  Donte DiVincenzo  SG  6-4  203  January 31, 1997      us   2   \n",
      "4  MIL  42       Robin Lopez   C  7-0  281     April 1, 1988      us  12   \n",
      "\n",
      "      College  \n",
      "0    Stanford  \n",
      "1   Marquette  \n",
      "2  Notre Dame  \n",
      "3   Villanova  \n",
      "4    Stanford  \n",
      "<class 'pandas.core.frame.DataFrame'>\n",
      "RangeIndex: 510 entries, 0 to 509\n",
      "Data columns (total 10 columns):\n",
      " #   Column      Non-Null Count  Dtype \n",
      "---  ------      --------------  ----- \n",
      " 0   Team        510 non-null    object\n",
      " 1   No.         489 non-null    object\n",
      " 2   Player      510 non-null    object\n",
      " 3   Pos         510 non-null    object\n",
      " 4   Ht          510 non-null    object\n",
      " 5   Wt          510 non-null    int64 \n",
      " 6   Birth Date  510 non-null    object\n",
      " 7   Country     510 non-null    object\n",
      " 8   Exp         510 non-null    object\n",
      " 9   College     435 non-null    object\n",
      "dtypes: int64(1), object(9)\n",
      "memory usage: 40.0+ KB\n",
      "None\n"
     ]
    }
   ],
   "source": [
    "#Print the .head() of the DataFrame for a sanity check\n",
    "print(nba_player_data.head())\n",
    "\n",
    "#Print the .info() of the DataFrame for a deeper investigation\n",
    "print(nba_player_data.info())"
   ]
  },
  {
   "cell_type": "markdown",
   "metadata": {},
   "source": [
    "As shown, the 'Ht' column is not an integer and will be difficult for computation. We will convert this to inches in a new column named 'Ht_Inches'."
   ]
  },
  {
   "cell_type": "code",
   "execution_count": 23,
   "metadata": {},
   "outputs": [],
   "source": [
    "#Create a 'Ft' column which takes the first digit in the 'Ht' column and converts it to an integer\n",
    "nba_player_data['Ft'] = nba_player_data['Ht'].str[:1].astype(int)\n",
    "\n",
    "#Create a 'In' column which takes the second digits in the 'Ht' column and converts it to an integer\n",
    "nba_player_data['In'] = nba_player_data['Ht'].str.split('-').str[1].astype(int)\n",
    "\n",
    "#Create a 'Ht_Inches' column and convert the 'Ht' column to inches\n",
    "nba_player_data['Ht_Inches'] = (nba_player_data['Ft']*12)+nba_player_data['In']"
   ]
  },
  {
   "cell_type": "code",
   "execution_count": 25,
   "metadata": {},
   "outputs": [
    {
     "name": "stdout",
     "output_type": "stream",
     "text": [
      "  Team No.            Player Pos   Ht   Wt        Birth Date Country Exp  \\\n",
      "0  MIL  11       Brook Lopez   C  7-0  282     April 1, 1988      us  12   \n",
      "1  MIL   9   Wesley Matthews  SG  6-4  220  October 14, 1986      us  11   \n",
      "2  MIL  24   Pat Connaughton  SG  6-5  209   January 6, 1993      us   5   \n",
      "3  MIL   0  Donte DiVincenzo  SG  6-4  203  January 31, 1997      us   2   \n",
      "4  MIL  42       Robin Lopez   C  7-0  281     April 1, 1988      us  12   \n",
      "\n",
      "      College  Ft  In  Ht_Inches  \n",
      "0    Stanford   7   0         84  \n",
      "1   Marquette   6   4         76  \n",
      "2  Notre Dame   6   5         77  \n",
      "3   Villanova   6   4         76  \n",
      "4    Stanford   7   0         84  \n"
     ]
    }
   ],
   "source": [
    "#Print the .head() of the DataFrame to check if the calculation was successful\n",
    "print(nba_player_data.head())"
   ]
  },
  {
   "cell_type": "markdown",
   "metadata": {},
   "source": [
    "Next, let's look at the unique positions in the dataset. "
   ]
  },
  {
   "cell_type": "code",
   "execution_count": 8,
   "metadata": {},
   "outputs": [
    {
     "name": "stdout",
     "output_type": "stream",
     "text": [
      "['C' 'SG' 'PF' 'SF' 'PG' 'G' 'F' 'F-G' 'G-F' 'F-C']\n"
     ]
    }
   ],
   "source": [
    "#Print out the unique values in the 'Pos' column\n",
    "print(nba_player_data['Pos'].unique())"
   ]
  },
  {
   "cell_type": "markdown",
   "metadata": {},
   "source": [
    "There are are 10 unique positions in the dataset. Since we only want to focus our analysis on the traditional five positions (C, SG, PF, SF, PG), let's see how many players fall into the non-traditional positions and if it is significant enough to keep for our analysis."
   ]
  },
  {
   "cell_type": "code",
   "execution_count": 9,
   "metadata": {},
   "outputs": [
    {
     "name": "stdout",
     "output_type": "stream",
     "text": [
      "SG     130\n",
      "PF     100\n",
      "C       92\n",
      "SF      85\n",
      "PG      84\n",
      "F        8\n",
      "G        7\n",
      "G-F      2\n",
      "F-G      1\n",
      "F-C      1\n",
      "Name: Pos, dtype: int64\n"
     ]
    }
   ],
   "source": [
    "#Print out the value counts for each position\n",
    "print(nba_player_data['Pos'].value_counts())"
   ]
  },
  {
   "cell_type": "markdown",
   "metadata": {},
   "source": [
    "Since there are only 19 players that fall within those categories, we will remove them from our dataset."
   ]
  },
  {
   "cell_type": "code",
   "execution_count": 14,
   "metadata": {},
   "outputs": [],
   "source": [
    "#Remove F, G, G-F, F-G, and F-C from our dataframe\n",
    "nba_player_data = (nba_player_data[(nba_player_data['Pos'] != 'F') & (nba_player_data['Pos'] != 'G')\n",
    "                                  & (nba_player_data['Pos'] != 'G-F')\n",
    "                                  & (nba_player_data['Pos'] != 'F-G')\n",
    "                                  & (nba_player_data['Pos'] != 'F-C')])"
   ]
  },
  {
   "cell_type": "code",
   "execution_count": 15,
   "metadata": {},
   "outputs": [
    {
     "name": "stdout",
     "output_type": "stream",
     "text": [
      "SG    130\n",
      "PF    100\n",
      "C      92\n",
      "SF     85\n",
      "PG     84\n",
      "Name: Pos, dtype: int64\n"
     ]
    }
   ],
   "source": [
    "#Validate that F, G, G-F, F-G, F-C were removed from our DataFrame\n",
    "print(nba_player_data['Pos'].value_counts())"
   ]
  },
  {
   "cell_type": "markdown",
   "metadata": {},
   "source": [
    "Next, we will create a scatter plot to visualize how height and weight correlate to position."
   ]
  },
  {
   "cell_type": "code",
   "execution_count": 26,
   "metadata": {},
   "outputs": [
    {
     "data": {
      "image/png": "[encoded data removed]",
      "text/plain": [
       "<Figure size 864x720 with 1 Axes>"
      ]
     },
     "metadata": {
      "needs_background": "light"
     },
     "output_type": "display_data"
    }
   ],
   "source": [
    "#Create individual dataframes for each of the traditional positions\n",
    "C_df = nba_player_data.loc[nba_player_data['Pos'] == \"C\"]\n",
    "SG_df = nba_player_data.loc[nba_player_data['Pos'] == \"SG\"]\n",
    "PF_df = nba_player_data.loc[nba_player_data['Pos'] == \"PF\"]\n",
    "SF_df = nba_player_data.loc[nba_player_data['Pos'] == \"SF\"]\n",
    "PG_df = nba_player_data.loc[nba_player_data['Pos'] == \"PG\"]\n",
    "\n",
    "#Create the figure size, labels, and title for the scatter plot\n",
    "plt.figure(figsize=(12,10))\n",
    "plt.xlabel(\"Height in Inches\")\n",
    "plt.ylabel(\"Weight\")\n",
    "plt.title(\"NBA Positional Relationship to Height and Weight\")\n",
    "\n",
    "#Plot each position onto the scatter plot\n",
    "plt.scatter(C_df['Ht_Inches'], C_df['Wt'], label='C', s=25, c='darkorange')\n",
    "plt.scatter(SG_df['Ht_Inches'], SG_df['Wt'], label='SG', s=25, c='cornflowerblue')\n",
    "plt.scatter(PF_df['Ht_Inches'], PF_df['Wt'], label='PF', s=25, c='wheat')\n",
    "plt.scatter(SF_df['Ht_Inches'], SF_df['Wt'], label='SF', s=25, c='lightsteelblue')\n",
    "plt.scatter(PG_df['Ht_Inches'], PG_df['Wt'], label='PG', s=25, c='darkblue')\n",
    "\n",
    "#Create a plot legend\n",
    "plt.legend(loc='upper left')\n",
    "\n",
    "#Show the scatter plot\n",
    "plt.show()"
   ]
  },
  {
   "cell_type": "code",
   "execution_count": null,
   "metadata": {},
   "outputs": [],
   "source": []
  }
 ],
 "metadata": {
  "kernelspec": {
   "display_name": "Python 3",
   "language": "python",
   "name": "python3"
  },
  "language_info": {
   "codemirror_mode": {
    "name": "ipython",
    "version": 3
   },
   "file_extension": ".py",
   "mimetype": "text/x-python",
   "name": "python",
   "nbconvert_exporter": "python",
   "pygments_lexer": "ipython3",
   "version": "3.8.3"
  }
 },
 "nbformat": 4,
 "nbformat_minor": 4
}
